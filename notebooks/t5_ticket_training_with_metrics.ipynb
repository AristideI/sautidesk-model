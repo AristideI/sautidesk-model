{
 "cells": [
  {
   "cell_type": "markdown",
   "metadata": {},
   "source": [
    "# 🧠 Fine-tune T5-base to Generate JSON Tickets from Support Issues\n",
    "\n",
    "This notebook trains a `t5-base` model using HuggingFace Transformers on a dataset of customer issue descriptions and structured ticket JSON outputs. It includes evaluation metrics like ROUGE and exact match."
   ]
  },
  {
   "cell_type": "code",
   "execution_count": null,
   "id": "e0d88c0e",
   "metadata": {},
   "outputs": [],
   "source": [
    "# %pip install nltk rouge_score absl-py sentencepiece datasets transformers evaluate"
   ]
  },
  {
   "cell_type": "code",
   "execution_count": 12,
   "metadata": {},
   "outputs": [],
   "source": [
    "# ✨ Import required libraries\n",
    "import json\n",
    "from datasets import Dataset\n",
    "from transformers import T5Tokenizer, T5ForConditionalGeneration, Seq2SeqTrainer, Seq2SeqTrainingArguments, DataCollatorForSeq2Seq\n",
    "import torch\n",
    "import random\n",
    "import evaluate\n",
    "import numpy as np"
   ]
  },
  {
   "cell_type": "code",
   "execution_count": 13,
   "metadata": {},
   "outputs": [
    {
     "name": "stdout",
     "output_type": "stream",
     "text": [
      "✅ Loaded 5000 samples\n"
     ]
    }
   ],
   "source": [
    "# ✨ Upload your JSON file\n",
    "with open(\"../data/training_data.json\", \"r\") as f:\n",
    "    raw_data = json.load(f)\n",
    "\n",
    "print(f\"✅ Loaded {len(raw_data)} samples\")"
   ]
  },
  {
   "cell_type": "code",
   "execution_count": 14,
   "metadata": {},
   "outputs": [],
   "source": [
    "# ✨ Prepare dataset\n",
    "\n",
    "def format_example(example):\n",
    "    input_text = f\"Generate ticket from: {example['text']}\"\n",
    "    target_text = json.dumps(example[\"label\"])\n",
    "    return {\"input\": input_text, \"target\": target_text}\n",
    "\n",
    "formatted_data = [format_example(example) for example in raw_data]\n",
    "dataset = Dataset.from_list(formatted_data)\n",
    "\n",
    "# Split into train/test\n",
    "dataset = dataset.train_test_split(test_size=0.1)\n",
    "train_data = dataset[\"train\"]\n",
    "test_data = dataset[\"test\"]"
   ]
  },
  {
   "cell_type": "code",
   "execution_count": 15,
   "metadata": {},
   "outputs": [
    {
     "name": "stderr",
     "output_type": "stream",
     "text": [
      "Map: 100%|██████████| 4500/4500 [00:05<00:00, 878.00 examples/s] \n",
      "Map: 100%|██████████| 500/500 [00:00<00:00, 1201.28 examples/s]\n"
     ]
    }
   ],
   "source": [
    "# ✨ Tokenize\n",
    "import sentencepiece\n",
    "\n",
    "model_name = \"t5-base\"\n",
    "tokenizer = T5Tokenizer.from_pretrained(model_name)\n",
    "\n",
    "MAX_INPUT_LEN = 256\n",
    "MAX_TARGET_LEN = 512\n",
    "\n",
    "def tokenize_function(example):\n",
    "    model_inputs = tokenizer(\n",
    "        example[\"input\"],\n",
    "        max_length=MAX_INPUT_LEN,\n",
    "        truncation=True,\n",
    "        padding=\"max_length\"\n",
    "    )\n",
    "    labels = tokenizer(\n",
    "        example[\"target\"],\n",
    "        max_length=MAX_TARGET_LEN,\n",
    "        truncation=True,\n",
    "        padding=\"max_length\"\n",
    "    )\n",
    "    model_inputs[\"labels\"] = labels[\"input_ids\"]\n",
    "    return model_inputs\n",
    "\n",
    "tokenized_train = train_data.map(tokenize_function, batched=True)\n",
    "tokenized_test = test_data.map(tokenize_function, batched=True)"
   ]
  },
  {
   "cell_type": "code",
   "execution_count": 16,
   "metadata": {},
   "outputs": [],
   "source": [
    "# ✨ Load model\n",
    "model = T5ForConditionalGeneration.from_pretrained(model_name)"
   ]
  },
  {
   "cell_type": "code",
   "execution_count": 17,
   "id": "aab26767",
   "metadata": {},
   "outputs": [],
   "source": [
    "# install 'nltk', 'absl-py', 'rouge_score'"
   ]
  },
  {
   "cell_type": "code",
   "execution_count": 18,
   "metadata": {},
   "outputs": [],
   "source": [
    "# ✨ Define metrics\n",
    "rouge = evaluate.load(\"rouge\")\n",
    "\n",
    "def compute_metrics(eval_preds):\n",
    "    preds, labels = eval_preds\n",
    "    decoded_preds = tokenizer.batch_decode(preds, skip_special_tokens=True)\n",
    "    decoded_labels = tokenizer.batch_decode(labels, skip_special_tokens=True)\n",
    "\n",
    "    decoded_preds = [p.strip() for p in decoded_preds]\n",
    "    decoded_labels = [l.strip() for l in decoded_labels]\n",
    "\n",
    "    result = rouge.compute(predictions=decoded_preds, references=decoded_labels, use_stemmer=True)\n",
    "    exact_matches = [int(p == l) for p, l in zip(decoded_preds, decoded_labels)]\n",
    "    exact_match_score = np.mean(exact_matches)\n",
    "\n",
    "    result[\"exact_match\"] = exact_match_score\n",
    "    return result"
   ]
  },
  {
   "cell_type": "code",
   "execution_count": 19,
   "metadata": {},
   "outputs": [],
   "source": [
    "# ✨ Training arguments\n",
    "training_args = Seq2SeqTrainingArguments(\n",
    "    output_dir=\"./t5-ticket-output\",\n",
    "    # evaluation_strategy=\"epoch\",\n",
    "    logging_dir=\"./logs\",\n",
    "    per_device_train_batch_size=1, # it was 4 before\n",
    "    per_device_eval_batch_size=1, # it was 4 before\n",
    "    num_train_epochs=5,\n",
    "    weight_decay=0.01,\n",
    "    save_total_limit=2,\n",
    "    save_strategy=\"epoch\",\n",
    "    logging_steps=20,\n",
    "    report_to=\"none\"\n",
    ")"
   ]
  },
  {
   "cell_type": "code",
   "execution_count": null,
   "metadata": {},
   "outputs": [],
   "source": [
    "# ✨ Trainer setup\n",
    "data_collator = DataCollatorForSeq2Seq(tokenizer=tokenizer, model=model)\n",
    "\n",
    "trainer = Seq2SeqTrainer(\n",
    "    model=model,\n",
    "    args=training_args,\n",
    "    train_dataset=tokenized_train,\n",
    "    eval_dataset=tokenized_test,\n",
    "    tokenizer=tokenizer,\n",
    "    data_collator=data_collator,\n",
    "    compute_metrics=compute_metrics\n",
    ")"
   ]
  },
  {
   "cell_type": "code",
   "execution_count": null,
   "metadata": {},
   "outputs": [],
   "source": [
    "# ✨ Train!\n",
    "trainer.train()"
   ]
  },
  {
   "cell_type": "code",
   "execution_count": null,
   "metadata": {},
   "outputs": [],
   "source": [
    "# ✅ Save model\n",
    "model.save_pretrained(\"models/t5-ticket-model\")\n",
    "tokenizer.save_pretrained(\"models/t5-ticket-model\")"
   ]
  },
  {
   "cell_type": "markdown",
   "metadata": {},
   "source": [
    "## ✅ Predict Example\n",
    "Use the model to generate a ticket from text:"
   ]
  },
  {
   "cell_type": "code",
   "execution_count": null,
   "metadata": {},
   "outputs": [],
   "source": [
    "def predict_ticket(issue_text):\n",
    "    input_text = f\"Generate ticket from: {issue_text}\"\n",
    "    inputs = tokenizer(input_text, return_tensors=\"pt\", truncation=True, padding=True).to(model.device)\n",
    "    output = model.generate(**inputs, max_length=512)\n",
    "    return tokenizer.decode(output[0], skip_special_tokens=True)\n",
    "\n",
    "predict_ticket(\"My electricity has been out since last night. Please help.\")"
   ]
  }
 ],
 "metadata": {
  "kernelspec": {
   "display_name": "venv",
   "language": "python",
   "name": "python3"
  },
  "language_info": {
   "codemirror_mode": {
    "name": "ipython",
    "version": 3
   },
   "file_extension": ".py",
   "mimetype": "text/x-python",
   "name": "python",
   "nbconvert_exporter": "python",
   "pygments_lexer": "ipython3",
   "version": "3.12.10"
  }
 },
 "nbformat": 4,
 "nbformat_minor": 5
}
